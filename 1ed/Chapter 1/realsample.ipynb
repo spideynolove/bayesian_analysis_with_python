{
 "cells": [
  {
   "cell_type": "markdown",
   "metadata": {},
   "source": [
    "# real world examples"
   ]
  },
  {
   "cell_type": "code",
   "execution_count": 121,
   "metadata": {},
   "outputs": [],
   "source": [
    "import matplotlib.pyplot as plt\n",
    "import numpy as np\n",
    "import pandas as pd\n",
    "import seaborn as sns\n",
    "from scipy import stats\n",
    "palette = 'muted'\n",
    "sns.set_palette(palette)\n",
    "sns.set_color_codes(palette)"
   ]
  },
  {
   "cell_type": "code",
   "execution_count": 134,
   "metadata": {},
   "outputs": [
    {
     "data": {
      "text/html": [
       "<div>\n",
       "<style scoped>\n",
       "    .dataframe tbody tr th:only-of-type {\n",
       "        vertical-align: middle;\n",
       "    }\n",
       "\n",
       "    .dataframe tbody tr th {\n",
       "        vertical-align: top;\n",
       "    }\n",
       "\n",
       "    .dataframe thead th {\n",
       "        text-align: right;\n",
       "    }\n",
       "</style>\n",
       "<table border=\"1\" class=\"dataframe\">\n",
       "  <thead>\n",
       "    <tr style=\"text-align: right;\">\n",
       "      <th></th>\n",
       "      <th>c</th>\n",
       "      <th>o</th>\n",
       "      <th>h</th>\n",
       "      <th>l</th>\n",
       "      <th>av</th>\n",
       "      <th>me</th>\n",
       "      <th>ty</th>\n",
       "      <th>wc</th>\n",
       "      <th>chg</th>\n",
       "      <th>chgo</th>\n",
       "      <th>chgh</th>\n",
       "      <th>chgl</th>\n",
       "      <th>chgav</th>\n",
       "      <th>chgme</th>\n",
       "      <th>chgty</th>\n",
       "      <th>chgwc</th>\n",
       "    </tr>\n",
       "    <tr>\n",
       "      <th>time</th>\n",
       "      <th></th>\n",
       "      <th></th>\n",
       "      <th></th>\n",
       "      <th></th>\n",
       "      <th></th>\n",
       "      <th></th>\n",
       "      <th></th>\n",
       "      <th></th>\n",
       "      <th></th>\n",
       "      <th></th>\n",
       "      <th></th>\n",
       "      <th></th>\n",
       "      <th></th>\n",
       "      <th></th>\n",
       "      <th></th>\n",
       "      <th></th>\n",
       "    </tr>\n",
       "  </thead>\n",
       "  <tbody>\n",
       "    <tr>\n",
       "      <th>2007-01-03</th>\n",
       "      <td>83.92</td>\n",
       "      <td>83.27</td>\n",
       "      <td>84.04</td>\n",
       "      <td>83.17</td>\n",
       "      <td>83.60</td>\n",
       "      <td>83.60</td>\n",
       "      <td>83.71</td>\n",
       "      <td>83.76</td>\n",
       "      <td>0.87</td>\n",
       "      <td>-0.23</td>\n",
       "      <td>0.51</td>\n",
       "      <td>0.02</td>\n",
       "      <td>0.30</td>\n",
       "      <td>0.26</td>\n",
       "      <td>0.47</td>\n",
       "      <td>0.56</td>\n",
       "    </tr>\n",
       "    <tr>\n",
       "      <th>2007-01-04</th>\n",
       "      <td>84.32</td>\n",
       "      <td>83.91</td>\n",
       "      <td>84.39</td>\n",
       "      <td>83.84</td>\n",
       "      <td>84.12</td>\n",
       "      <td>84.12</td>\n",
       "      <td>84.18</td>\n",
       "      <td>84.22</td>\n",
       "      <td>0.48</td>\n",
       "      <td>0.77</td>\n",
       "      <td>0.42</td>\n",
       "      <td>0.81</td>\n",
       "      <td>0.62</td>\n",
       "      <td>0.62</td>\n",
       "      <td>0.56</td>\n",
       "      <td>0.55</td>\n",
       "    </tr>\n",
       "    <tr>\n",
       "      <th>2007-01-05</th>\n",
       "      <td>84.63</td>\n",
       "      <td>84.29</td>\n",
       "      <td>84.81</td>\n",
       "      <td>84.15</td>\n",
       "      <td>84.47</td>\n",
       "      <td>84.48</td>\n",
       "      <td>84.53</td>\n",
       "      <td>84.56</td>\n",
       "      <td>0.37</td>\n",
       "      <td>0.45</td>\n",
       "      <td>0.50</td>\n",
       "      <td>0.37</td>\n",
       "      <td>0.42</td>\n",
       "      <td>0.43</td>\n",
       "      <td>0.42</td>\n",
       "      <td>0.40</td>\n",
       "    </tr>\n",
       "    <tr>\n",
       "      <th>2007-01-08</th>\n",
       "      <td>84.60</td>\n",
       "      <td>84.64</td>\n",
       "      <td>84.84</td>\n",
       "      <td>84.49</td>\n",
       "      <td>84.64</td>\n",
       "      <td>84.66</td>\n",
       "      <td>84.64</td>\n",
       "      <td>84.63</td>\n",
       "      <td>-0.04</td>\n",
       "      <td>0.42</td>\n",
       "      <td>0.04</td>\n",
       "      <td>0.40</td>\n",
       "      <td>0.20</td>\n",
       "      <td>0.21</td>\n",
       "      <td>0.13</td>\n",
       "      <td>0.08</td>\n",
       "    </tr>\n",
       "    <tr>\n",
       "      <th>2007-01-09</th>\n",
       "      <td>84.74</td>\n",
       "      <td>84.49</td>\n",
       "      <td>84.84</td>\n",
       "      <td>84.43</td>\n",
       "      <td>84.62</td>\n",
       "      <td>84.64</td>\n",
       "      <td>84.67</td>\n",
       "      <td>84.69</td>\n",
       "      <td>0.17</td>\n",
       "      <td>-0.18</td>\n",
       "      <td>0.00</td>\n",
       "      <td>-0.07</td>\n",
       "      <td>-0.02</td>\n",
       "      <td>-0.02</td>\n",
       "      <td>0.04</td>\n",
       "      <td>0.07</td>\n",
       "    </tr>\n",
       "    <tr>\n",
       "      <th>...</th>\n",
       "      <td>...</td>\n",
       "      <td>...</td>\n",
       "      <td>...</td>\n",
       "      <td>...</td>\n",
       "      <td>...</td>\n",
       "      <td>...</td>\n",
       "      <td>...</td>\n",
       "      <td>...</td>\n",
       "      <td>...</td>\n",
       "      <td>...</td>\n",
       "      <td>...</td>\n",
       "      <td>...</td>\n",
       "      <td>...</td>\n",
       "      <td>...</td>\n",
       "      <td>...</td>\n",
       "      <td>...</td>\n",
       "    </tr>\n",
       "    <tr>\n",
       "      <th>2024-04-22</th>\n",
       "      <td>106.13</td>\n",
       "      <td>106.11</td>\n",
       "      <td>106.39</td>\n",
       "      <td>105.98</td>\n",
       "      <td>106.15</td>\n",
       "      <td>106.18</td>\n",
       "      <td>106.17</td>\n",
       "      <td>106.16</td>\n",
       "      <td>0.02</td>\n",
       "      <td>-0.01</td>\n",
       "      <td>0.24</td>\n",
       "      <td>-0.09</td>\n",
       "      <td>0.04</td>\n",
       "      <td>0.07</td>\n",
       "      <td>0.06</td>\n",
       "      <td>0.05</td>\n",
       "    </tr>\n",
       "    <tr>\n",
       "      <th>2024-04-23</th>\n",
       "      <td>105.68</td>\n",
       "      <td>106.13</td>\n",
       "      <td>106.24</td>\n",
       "      <td>105.61</td>\n",
       "      <td>105.92</td>\n",
       "      <td>105.92</td>\n",
       "      <td>105.84</td>\n",
       "      <td>105.80</td>\n",
       "      <td>-0.42</td>\n",
       "      <td>0.02</td>\n",
       "      <td>-0.14</td>\n",
       "      <td>-0.35</td>\n",
       "      <td>-0.22</td>\n",
       "      <td>-0.24</td>\n",
       "      <td>-0.31</td>\n",
       "      <td>-0.34</td>\n",
       "    </tr>\n",
       "    <tr>\n",
       "      <th>2024-04-24</th>\n",
       "      <td>105.81</td>\n",
       "      <td>105.68</td>\n",
       "      <td>105.95</td>\n",
       "      <td>105.59</td>\n",
       "      <td>105.76</td>\n",
       "      <td>105.77</td>\n",
       "      <td>105.78</td>\n",
       "      <td>105.79</td>\n",
       "      <td>0.12</td>\n",
       "      <td>-0.42</td>\n",
       "      <td>-0.27</td>\n",
       "      <td>-0.02</td>\n",
       "      <td>-0.15</td>\n",
       "      <td>-0.14</td>\n",
       "      <td>-0.06</td>\n",
       "      <td>-0.01</td>\n",
       "    </tr>\n",
       "    <tr>\n",
       "      <th>2024-04-25</th>\n",
       "      <td>105.60</td>\n",
       "      <td>105.81</td>\n",
       "      <td>106.00</td>\n",
       "      <td>105.53</td>\n",
       "      <td>105.74</td>\n",
       "      <td>105.76</td>\n",
       "      <td>105.71</td>\n",
       "      <td>105.68</td>\n",
       "      <td>-0.20</td>\n",
       "      <td>0.12</td>\n",
       "      <td>0.05</td>\n",
       "      <td>-0.06</td>\n",
       "      <td>-0.02</td>\n",
       "      <td>-0.01</td>\n",
       "      <td>-0.07</td>\n",
       "      <td>-0.10</td>\n",
       "    </tr>\n",
       "    <tr>\n",
       "      <th>2024-04-26</th>\n",
       "      <td>106.14</td>\n",
       "      <td>105.60</td>\n",
       "      <td>106.14</td>\n",
       "      <td>105.42</td>\n",
       "      <td>105.82</td>\n",
       "      <td>105.78</td>\n",
       "      <td>105.90</td>\n",
       "      <td>105.96</td>\n",
       "      <td>0.51</td>\n",
       "      <td>-0.20</td>\n",
       "      <td>0.13</td>\n",
       "      <td>-0.10</td>\n",
       "      <td>0.08</td>\n",
       "      <td>0.02</td>\n",
       "      <td>0.18</td>\n",
       "      <td>0.26</td>\n",
       "    </tr>\n",
       "  </tbody>\n",
       "</table>\n",
       "<p>4512 rows × 16 columns</p>\n",
       "</div>"
      ],
      "text/plain": [
       "                 c       o       h       l      av      me      ty      wc  \\\n",
       "time                                                                         \n",
       "2007-01-03   83.92   83.27   84.04   83.17   83.60   83.60   83.71   83.76   \n",
       "2007-01-04   84.32   83.91   84.39   83.84   84.12   84.12   84.18   84.22   \n",
       "2007-01-05   84.63   84.29   84.81   84.15   84.47   84.48   84.53   84.56   \n",
       "2007-01-08   84.60   84.64   84.84   84.49   84.64   84.66   84.64   84.63   \n",
       "2007-01-09   84.74   84.49   84.84   84.43   84.62   84.64   84.67   84.69   \n",
       "...            ...     ...     ...     ...     ...     ...     ...     ...   \n",
       "2024-04-22  106.13  106.11  106.39  105.98  106.15  106.18  106.17  106.16   \n",
       "2024-04-23  105.68  106.13  106.24  105.61  105.92  105.92  105.84  105.80   \n",
       "2024-04-24  105.81  105.68  105.95  105.59  105.76  105.77  105.78  105.79   \n",
       "2024-04-25  105.60  105.81  106.00  105.53  105.74  105.76  105.71  105.68   \n",
       "2024-04-26  106.14  105.60  106.14  105.42  105.82  105.78  105.90  105.96   \n",
       "\n",
       "             chg  chgo  chgh  chgl  chgav  chgme  chgty  chgwc  \n",
       "time                                                            \n",
       "2007-01-03  0.87 -0.23  0.51  0.02   0.30   0.26   0.47   0.56  \n",
       "2007-01-04  0.48  0.77  0.42  0.81   0.62   0.62   0.56   0.55  \n",
       "2007-01-05  0.37  0.45  0.50  0.37   0.42   0.43   0.42   0.40  \n",
       "2007-01-08 -0.04  0.42  0.04  0.40   0.20   0.21   0.13   0.08  \n",
       "2007-01-09  0.17 -0.18  0.00 -0.07  -0.02  -0.02   0.04   0.07  \n",
       "...          ...   ...   ...   ...    ...    ...    ...    ...  \n",
       "2024-04-22  0.02 -0.01  0.24 -0.09   0.04   0.07   0.06   0.05  \n",
       "2024-04-23 -0.42  0.02 -0.14 -0.35  -0.22  -0.24  -0.31  -0.34  \n",
       "2024-04-24  0.12 -0.42 -0.27 -0.02  -0.15  -0.14  -0.06  -0.01  \n",
       "2024-04-25 -0.20  0.12  0.05 -0.06  -0.02  -0.01  -0.07  -0.10  \n",
       "2024-04-26  0.51 -0.20  0.13 -0.10   0.08   0.02   0.18   0.26  \n",
       "\n",
       "[4512 rows x 16 columns]"
      ]
     },
     "execution_count": 134,
     "metadata": {},
     "output_type": "execute_result"
    }
   ],
   "source": [
    "data = pd.read_csv('../../data/export/DXY_PRICES_DAILY.csv', index_col=0, parse_dates=True)\n",
    "data['chgo'] = data['o'].pct_change() * 100\n",
    "data['chgh'] = data['h'].pct_change() * 100\n",
    "data['chgl'] = data['l'].pct_change() * 100\n",
    "data['chgav'] = data['av'].pct_change() * 100\n",
    "data['chgme'] = data['me'].pct_change() * 100\n",
    "data['chgty'] = data['ty'].pct_change() * 100\n",
    "data['chgwc'] = data['wc'].pct_change() * 100\n",
    "data.dropna(inplace=True)\n",
    "data = data.round(2)\n",
    "data"
   ]
  },
  {
   "cell_type": "code",
   "execution_count": 123,
   "metadata": {},
   "outputs": [
    {
     "data": {
      "text/plain": [
       "(4512, 16)"
      ]
     },
     "execution_count": 123,
     "metadata": {},
     "output_type": "execute_result"
    }
   ],
   "source": [
    "data.shape"
   ]
  },
  {
   "cell_type": "code",
   "execution_count": 124,
   "metadata": {},
   "outputs": [],
   "source": [
    "columns = 'wc'"
   ]
  },
  {
   "cell_type": "code",
   "execution_count": 125,
   "metadata": {},
   "outputs": [
    {
     "data": {
      "text/plain": [
       "count    4512.000000\n",
       "mean       89.553619\n",
       "std         9.740492\n",
       "min        71.330000\n",
       "25%        80.477500\n",
       "50%        91.235000\n",
       "75%        97.242500\n",
       "max       114.000000\n",
       "Name: wc, dtype: float64"
      ]
     },
     "execution_count": 125,
     "metadata": {},
     "output_type": "execute_result"
    }
   ],
   "source": [
    "data[columns].describe()"
   ]
  },
  {
   "cell_type": "code",
   "execution_count": 126,
   "metadata": {},
   "outputs": [],
   "source": [
    "data[columns].dropna(inplace=True)"
   ]
  },
  {
   "cell_type": "code",
   "execution_count": 127,
   "metadata": {},
   "outputs": [
    {
     "data": {
      "text/plain": [
       "4512"
      ]
     },
     "execution_count": 127,
     "metadata": {},
     "output_type": "execute_result"
    }
   ],
   "source": [
    "xdata = data[columns].to_numpy()\n",
    "xdata.size"
   ]
  },
  {
   "cell_type": "code",
   "execution_count": 128,
   "metadata": {},
   "outputs": [
    {
     "data": {
      "text/plain": [
       "89.55361923758865"
      ]
     },
     "execution_count": 128,
     "metadata": {},
     "output_type": "execute_result"
    }
   ],
   "source": [
    "mu = np.mean(xdata)\n",
    "mu"
   ]
  },
  {
   "cell_type": "code",
   "execution_count": 129,
   "metadata": {},
   "outputs": [
    {
     "data": {
      "text/plain": [
       "9.739412586752064"
      ]
     },
     "execution_count": 129,
     "metadata": {},
     "output_type": "execute_result"
    }
   ],
   "source": [
    "sd = np.std(xdata)\n",
    "sd"
   ]
  },
  {
   "cell_type": "code",
   "execution_count": 130,
   "metadata": {},
   "outputs": [
    {
     "data": {
      "text/plain": [
       "(71.33, 114.0)"
      ]
     },
     "execution_count": 130,
     "metadata": {},
     "output_type": "execute_result"
    }
   ],
   "source": [
    "min(xdata), max(xdata)"
   ]
  },
  {
   "cell_type": "code",
   "execution_count": 131,
   "metadata": {},
   "outputs": [],
   "source": [
    "x = np.linspace(min(xdata), max(xdata), xdata.size)"
   ]
  },
  {
   "cell_type": "code",
   "execution_count": 132,
   "metadata": {},
   "outputs": [],
   "source": [
    "pdf = stats.norm(mu, sd).pdf(x)"
   ]
  },
  {
   "cell_type": "code",
   "execution_count": 133,
   "metadata": {},
   "outputs": [
    {
     "data": {
      "image/png": "[encoded data removed]",
      "text/plain": [
       "<Figure size 1000x600 with 1 Axes>"
      ]
     },
     "metadata": {},
     "output_type": "display_data"
    }
   ],
   "source": [
    "plt.figure(figsize=(10, 6))\n",
    "plt.hist(xdata, bins=30, density=True, alpha=0.6, color='g', label='Data histogram')\n",
    "plt.plot(x, pdf, 'k', linewidth=2, label='Normal distribution PDF')\n",
    "plt.title('PDF of the Data')\n",
    "plt.xlabel('Value')\n",
    "plt.ylabel('Density')\n",
    "plt.legend(loc='best')\n",
    "plt.show()"
   ]
  }
 ],
 "metadata": {
  "interpreter": {
   "hash": "f286ef182e6b807cc2e221ecf258f633461edf1c89db486e38c7dc82ac81346f"
  },
  "kernelspec": {
   "display_name": "Python 3.7.9 64-bit ('env': venv)",
   "language": "python",
   "name": "python3"
  },
  "language_info": {
   "codemirror_mode": {
    "name": "ipython",
    "version": 3
   },
   "file_extension": ".py",
   "mimetype": "text/x-python",
   "name": "python",
   "nbconvert_exporter": "python",
   "pygments_lexer": "ipython3",
   "version": "3.8.18"
  },
  "orig_nbformat": 4
 },
 "nbformat": 4,
 "nbformat_minor": 2
}
