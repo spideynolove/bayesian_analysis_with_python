{
 "cells": [
  {
   "cell_type": "code",
   "execution_count": 1,
   "metadata": {},
   "outputs": [],
   "source": [
    "import matplotlib.pyplot as plt\n",
    "import scipy.stats as stats\n",
    "import numpy as np\n",
    "import pandas as pd\n",
    "import seaborn as sns\n",
    "import pymc3 as pm\n",
    "import arviz as az"
   ]
  },
  {
   "cell_type": "code",
   "execution_count": 2,
   "metadata": {},
   "outputs": [],
   "source": [
    "az.style.use('arviz-darkgrid')"
   ]
  },
  {
   "cell_type": "markdown",
   "metadata": {},
   "source": [
    "## PyMC3 primer"
   ]
  },
  {
   "cell_type": "code",
   "execution_count": 3,
   "metadata": {},
   "outputs": [
    {
     "data": {
      "text/plain": [
       "array([1, 0, 0, 0])"
      ]
     },
     "execution_count": 3,
     "metadata": {},
     "output_type": "execute_result"
    }
   ],
   "source": [
    "np.random.seed(123)\n",
    "trials = 4\n",
    "theta_real = 0.35  # unknown value in a real experiment\n",
    "data = stats.bernoulli.rvs(p=theta_real, size=trials)\n",
    "data"
   ]
  },
  {
   "cell_type": "code",
   "execution_count": 4,
   "metadata": {},
   "outputs": [
    {
     "name": "stderr",
     "output_type": "stream",
     "text": [
      "Auto-assigning NUTS sampler...\n",
      "Initializing NUTS using jitter+adapt_diag...\n",
      "Multiprocess sampling (4 chains in 4 jobs)\n",
      "NUTS: [θ]\n"
     ]
    },
    {
     "data": {
      "text/html": [
       "\n",
       "    <div>\n",
       "        <style>\n",
       "            /* Turns off some styling */\n",
       "            progress {\n",
       "                /* gets rid of default border in Firefox and Opera. */\n",
       "                border: none;\n",
       "                /* Needs to be in here for Safari polyfill so background images work as expected. */\n",
       "                background-size: auto;\n",
       "            }\n",
       "            .progress-bar-interrupted, .progress-bar-interrupted::-webkit-progress-bar {\n",
       "                background: #F44336;\n",
       "            }\n",
       "        </style>\n",
       "      <progress value='8000' class='' max='8000' style='width:300px; height:20px; vertical-align: middle;'></progress>\n",
       "      100.00% [8000/8000 00:01<00:00 Sampling 4 chains, 0 divergences]\n",
       "    </div>\n",
       "    "
      ],
      "text/plain": [
       "<IPython.core.display.HTML object>"
      ]
     },
     "metadata": {},
     "output_type": "display_data"
    },
    {
     "name": "stderr",
     "output_type": "stream",
     "text": [
      "Sampling 4 chains for 1_000 tune and 1_000 draw iterations (4_000 + 4_000 draws total) took 2 seconds.\n"
     ]
    }
   ],
   "source": [
    "with pm.Model() as our_first_model:\n",
    "    # a priori\n",
    "    θ = pm.Beta('θ', alpha=1., beta=1.)\n",
    "    # likelihood\n",
    "    y = pm.Bernoulli('y', p=θ, observed=data)\n",
    "    idata = pm.sample(1000, random_seed=123, return_inferencedata=True)"
   ]
  },
  {
   "cell_type": "markdown",
   "metadata": {},
   "source": [
    "### Summarizing the posterior"
   ]
  },
  {
   "cell_type": "code",
   "execution_count": 5,
   "metadata": {},
   "outputs": [],
   "source": [
    "az.plot_trace(idata)\n",
    "plt.savefig('B11197_02_01.png')"
   ]
  },
  {
   "cell_type": "code",
   "execution_count": 6,
   "metadata": {},
   "outputs": [
    {
     "data": {
      "text/html": [
       "<div>\n",
       "<style scoped>\n",
       "    .dataframe tbody tr th:only-of-type {\n",
       "        vertical-align: middle;\n",
       "    }\n",
       "\n",
       "    .dataframe tbody tr th {\n",
       "        vertical-align: top;\n",
       "    }\n",
       "\n",
       "    .dataframe thead th {\n",
       "        text-align: right;\n",
       "    }\n",
       "</style>\n",
       "<table border=\"1\" class=\"dataframe\">\n",
       "  <thead>\n",
       "    <tr style=\"text-align: right;\">\n",
       "      <th></th>\n",
       "      <th>mean</th>\n",
       "      <th>sd</th>\n",
       "      <th>hdi_3%</th>\n",
       "      <th>hdi_97%</th>\n",
       "      <th>mcse_mean</th>\n",
       "      <th>mcse_sd</th>\n",
       "      <th>ess_bulk</th>\n",
       "      <th>ess_tail</th>\n",
       "      <th>r_hat</th>\n",
       "    </tr>\n",
       "  </thead>\n",
       "  <tbody>\n",
       "    <tr>\n",
       "      <th>θ</th>\n",
       "      <td>0.332</td>\n",
       "      <td>0.18</td>\n",
       "      <td>0.016</td>\n",
       "      <td>0.65</td>\n",
       "      <td>0.005</td>\n",
       "      <td>0.003</td>\n",
       "      <td>1418.0</td>\n",
       "      <td>1928.0</td>\n",
       "      <td>1.0</td>\n",
       "    </tr>\n",
       "  </tbody>\n",
       "</table>\n",
       "</div>"
      ],
      "text/plain": [
       "    mean    sd  hdi_3%  hdi_97%  mcse_mean  mcse_sd  ess_bulk  ess_tail  r_hat\n",
       "θ  0.332  0.18   0.016     0.65      0.005    0.003    1418.0    1928.0    1.0"
      ]
     },
     "execution_count": 6,
     "metadata": {},
     "output_type": "execute_result"
    }
   ],
   "source": [
    "az.summary(idata)"
   ]
  },
  {
   "cell_type": "markdown",
   "metadata": {},
   "source": [
    "#### Posterior-based decisions"
   ]
  },
  {
   "cell_type": "code",
   "execution_count": 7,
   "metadata": {},
   "outputs": [],
   "source": [
    "az.plot_posterior(idata)\n",
    "plt.savefig('B11197_02_02.png', dpi=300)"
   ]
  },
  {
   "cell_type": "code",
   "execution_count": 8,
   "metadata": {},
   "outputs": [],
   "source": [
    "az.plot_posterior(idata, rope=[0.45, .55])\n",
    "plt.savefig('B11197_02_03.png', dpi=300)"
   ]
  },
  {
   "cell_type": "code",
   "execution_count": 9,
   "metadata": {
    "scrolled": true
   },
   "outputs": [],
   "source": [
    "az.plot_posterior(idata, ref_val=0.5)\n",
    "plt.savefig('B11197_02_04.png', dpi=300)"
   ]
  },
  {
   "cell_type": "code",
   "execution_count": 10,
   "metadata": {},
   "outputs": [],
   "source": [
    "grid = np.linspace(0, 1, 200)\n",
    "θ_pos = idata.posterior['θ']\n",
    "lossf_a = [np.mean(abs(i - θ_pos)) for i in grid]\n",
    "lossf_b = [np.mean((i - θ_pos)**2) for i in grid]\n",
    "\n",
    "for lossf, c in zip([lossf_a, lossf_b], ['C0', 'C1']):\n",
    "    mini = np.argmin(lossf)\n",
    "    plt.plot(grid, lossf, c)\n",
    "    plt.plot(grid[mini], lossf[mini], 'o', color=c)\n",
    "    plt.annotate('{:.2f}'.format(grid[mini]),\n",
    "                 (grid[mini], lossf[mini] + 0.03), color=c)\n",
    "    plt.yticks([])\n",
    "    plt.xlabel(r'$\\hat \\theta$')\n",
    "plt.savefig('B11197_02_05.png', dpi=300)"
   ]
  },
  {
   "cell_type": "code",
   "execution_count": 11,
   "metadata": {},
   "outputs": [
    {
     "data": {
      "text/plain": [
       "(0.33183370277337, 0.30799294353727047)"
      ]
     },
     "execution_count": 11,
     "metadata": {},
     "output_type": "execute_result"
    }
   ],
   "source": [
    "np.mean(θ_pos).item(), np.median(θ_pos)"
   ]
  },
  {
   "cell_type": "code",
   "execution_count": 12,
   "metadata": {},
   "outputs": [],
   "source": [
    "lossf = []\n",
    "for i in grid:\n",
    "    if i < 0.5:\n",
    "        f = np.mean(np.pi * θ_pos / np.abs(i - θ_pos))\n",
    "    else:\n",
    "        f = np.mean(1 / (i - θ_pos))\n",
    "    lossf.append(f)\n",
    "\n",
    "mini = np.argmin(lossf)\n",
    "plt.plot(grid, lossf)\n",
    "plt.plot(grid[mini], lossf[mini], 'o')\n",
    "plt.annotate('{:.2f}'.format(grid[mini]),\n",
    "             (grid[mini] + 0.01, lossf[mini] + 0.1))\n",
    "plt.yticks([])\n",
    "plt.xlabel(r'$\\hat \\theta$')\n",
    "plt.savefig('B11197_02_06.png', dpi=300)"
   ]
  },
  {
   "cell_type": "markdown",
   "metadata": {},
   "source": [
    "## Gaussian inferences"
   ]
  },
  {
   "cell_type": "code",
   "execution_count": 13,
   "metadata": {},
   "outputs": [],
   "source": [
    "data = np.loadtxt('../data/chemical_shifts.csv')\n",
    "\n",
    "# remove outliers using the interquartile rule\n",
    "#quant = np.percentile(data, [25, 75])\n",
    "#iqr = quant[1] - quant[0]\n",
    "#upper_b = quant[1] + iqr * 1.5\n",
    "#lower_b = quant[0] - iqr * 1.5\n",
    "#data = data[(data > lower_b) & (data < upper_b)]\n",
    "#print(np.mean(data), np.std(data))\n",
    "\n",
    "az.plot_kde(data, rug=True)\n",
    "plt.yticks([0], alpha=0)\n",
    "plt.savefig('B11197_02_07.png', dpi=300)"
   ]
  },
  {
   "cell_type": "markdown",
   "metadata": {},
   "source": [
    " <img src=\"B11197_02_08.png\" width=\"500\">"
   ]
  },
  {
   "cell_type": "code",
   "execution_count": 14,
   "metadata": {},
   "outputs": [
    {
     "name": "stderr",
     "output_type": "stream",
     "text": [
      "Auto-assigning NUTS sampler...\n",
      "Initializing NUTS using jitter+adapt_diag...\n",
      "Multiprocess sampling (4 chains in 4 jobs)\n",
      "NUTS: [σ, μ]\n"
     ]
    },
    {
     "data": {
      "text/html": [
       "\n",
       "    <div>\n",
       "        <style>\n",
       "            /* Turns off some styling */\n",
       "            progress {\n",
       "                /* gets rid of default border in Firefox and Opera. */\n",
       "                border: none;\n",
       "                /* Needs to be in here for Safari polyfill so background images work as expected. */\n",
       "                background-size: auto;\n",
       "            }\n",
       "            .progress-bar-interrupted, .progress-bar-interrupted::-webkit-progress-bar {\n",
       "                background: #F44336;\n",
       "            }\n",
       "        </style>\n",
       "      <progress value='8000' class='' max='8000' style='width:300px; height:20px; vertical-align: middle;'></progress>\n",
       "      100.00% [8000/8000 00:01<00:00 Sampling 4 chains, 0 divergences]\n",
       "    </div>\n",
       "    "
      ],
      "text/plain": [
       "<IPython.core.display.HTML object>"
      ]
     },
     "metadata": {},
     "output_type": "display_data"
    },
    {
     "name": "stderr",
     "output_type": "stream",
     "text": [
      "Sampling 4 chains for 1_000 tune and 1_000 draw iterations (4_000 + 4_000 draws total) took 2 seconds.\n"
     ]
    }
   ],
   "source": [
    "with pm.Model() as model_g:\n",
    "    μ = pm.Uniform('μ', lower=40, upper=70)\n",
    "    σ = pm.HalfNormal('σ', sd=10)\n",
    "    y = pm.Normal('y', mu=μ, sd=σ, observed=data)\n",
    "    idata_g = pm.sample(1000, return_inferencedata=True)"
   ]
  },
  {
   "cell_type": "code",
   "execution_count": 15,
   "metadata": {},
   "outputs": [],
   "source": [
    "az.plot_trace(idata_g)\n",
    "plt.savefig('B11197_02_09.png', dpi=300)"
   ]
  },
  {
   "cell_type": "code",
   "execution_count": 16,
   "metadata": {},
   "outputs": [
    {
     "name": "stderr",
     "output_type": "stream",
     "text": [
      "/u/32/martino5/unix/anaconda3/envs/pymcv3/lib/python3.9/site-packages/arviz/plots/jointplot.py:144: UserWarning: plot_joint will be deprecated. Please use plot_pair instead.\n",
      "  warnings.warn(\"plot_joint will be deprecated. Please use plot_pair instead.\")\n"
     ]
    }
   ],
   "source": [
    "az.plot_joint(idata_g, kind='kde', fill_last=False)\n",
    "plt.savefig('B11197_02_10.png', dpi=300)"
   ]
  },
  {
   "cell_type": "code",
   "execution_count": 17,
   "metadata": {},
   "outputs": [
    {
     "data": {
      "text/html": [
       "<div>\n",
       "<style scoped>\n",
       "    .dataframe tbody tr th:only-of-type {\n",
       "        vertical-align: middle;\n",
       "    }\n",
       "\n",
       "    .dataframe tbody tr th {\n",
       "        vertical-align: top;\n",
       "    }\n",
       "\n",
       "    .dataframe thead th {\n",
       "        text-align: right;\n",
       "    }\n",
       "</style>\n",
       "<table border=\"1\" class=\"dataframe\">\n",
       "  <thead>\n",
       "    <tr style=\"text-align: right;\">\n",
       "      <th></th>\n",
       "      <th>mean</th>\n",
       "      <th>sd</th>\n",
       "      <th>hdi_3%</th>\n",
       "      <th>hdi_97%</th>\n",
       "      <th>mcse_mean</th>\n",
       "      <th>mcse_sd</th>\n",
       "      <th>ess_bulk</th>\n",
       "      <th>ess_tail</th>\n",
       "      <th>r_hat</th>\n",
       "    </tr>\n",
       "  </thead>\n",
       "  <tbody>\n",
       "    <tr>\n",
       "      <th>μ</th>\n",
       "      <td>53.508</td>\n",
       "      <td>0.514</td>\n",
       "      <td>52.561</td>\n",
       "      <td>54.483</td>\n",
       "      <td>0.009</td>\n",
       "      <td>0.006</td>\n",
       "      <td>3562.0</td>\n",
       "      <td>2801.0</td>\n",
       "      <td>1.0</td>\n",
       "    </tr>\n",
       "    <tr>\n",
       "      <th>σ</th>\n",
       "      <td>3.538</td>\n",
       "      <td>0.379</td>\n",
       "      <td>2.845</td>\n",
       "      <td>4.225</td>\n",
       "      <td>0.006</td>\n",
       "      <td>0.004</td>\n",
       "      <td>3591.0</td>\n",
       "      <td>2866.0</td>\n",
       "      <td>1.0</td>\n",
       "    </tr>\n",
       "  </tbody>\n",
       "</table>\n",
       "</div>"
      ],
      "text/plain": [
       "     mean     sd  hdi_3%  hdi_97%  mcse_mean  mcse_sd  ess_bulk  ess_tail  \\\n",
       "μ  53.508  0.514  52.561   54.483      0.009    0.006    3562.0    2801.0   \n",
       "σ   3.538  0.379   2.845    4.225      0.006    0.004    3591.0    2866.0   \n",
       "\n",
       "   r_hat  \n",
       "μ    1.0  \n",
       "σ    1.0  "
      ]
     },
     "execution_count": 17,
     "metadata": {},
     "output_type": "execute_result"
    }
   ],
   "source": [
    "az.summary(idata_g)"
   ]
  },
  {
   "cell_type": "code",
   "execution_count": 18,
   "metadata": {},
   "outputs": [
    {
     "data": {
      "text/html": [
       "\n",
       "    <div>\n",
       "        <style>\n",
       "            /* Turns off some styling */\n",
       "            progress {\n",
       "                /* gets rid of default border in Firefox and Opera. */\n",
       "                border: none;\n",
       "                /* Needs to be in here for Safari polyfill so background images work as expected. */\n",
       "                background-size: auto;\n",
       "            }\n",
       "            .progress-bar-interrupted, .progress-bar-interrupted::-webkit-progress-bar {\n",
       "                background: #F44336;\n",
       "            }\n",
       "        </style>\n",
       "      <progress value='4000' class='' max='4000' style='width:300px; height:20px; vertical-align: middle;'></progress>\n",
       "      100.00% [4000/4000 00:04<00:00]\n",
       "    </div>\n",
       "    "
      ],
      "text/plain": [
       "<IPython.core.display.HTML object>"
      ]
     },
     "metadata": {},
     "output_type": "display_data"
    }
   ],
   "source": [
    "y_pred_g = pm.sample_posterior_predictive(idata_g, model=model_g, keep_size=True)"
   ]
  },
  {
   "cell_type": "code",
   "execution_count": 19,
   "metadata": {},
   "outputs": [],
   "source": [
    "az.concat(idata_g, az.from_dict(posterior_predictive=y_pred_g), inplace=True)\n",
    "ax = az.plot_ppc(idata_g, num_pp_samples=100, figsize=(12, 6), mean=False)\n",
    "plt.savefig('B11197_02_11.png', dpi=300)"
   ]
  },
  {
   "cell_type": "markdown",
   "metadata": {},
   "source": [
    "### Robust inferences"
   ]
  },
  {
   "cell_type": "code",
   "execution_count": 20,
   "metadata": {},
   "outputs": [],
   "source": [
    "plt.figure(figsize=(10, 6))\n",
    "x_values = np.linspace(-10, 10, 500)\n",
    "for df in [1, 2, 30]:\n",
    "    distri = stats.t(df)\n",
    "    x_pdf = distri.pdf(x_values)\n",
    "    plt.plot(x_values, x_pdf, label=fr'$\\nu = {df}$', lw=3)\n",
    "\n",
    "x_pdf = stats.norm.pdf(x_values)\n",
    "plt.plot(x_values, x_pdf, 'k--', label=r'$\\nu = \\infty$')\n",
    "plt.xlabel('x')\n",
    "plt.yticks([])\n",
    "plt.legend()\n",
    "plt.xlim(-5, 5)\n",
    "plt.savefig('B11197_02_12.png', dpi=300)"
   ]
  },
  {
   "cell_type": "markdown",
   "metadata": {},
   "source": [
    " <img src=\"B11197_02_13.png\" width=\"500\">"
   ]
  },
  {
   "cell_type": "code",
   "execution_count": 21,
   "metadata": {},
   "outputs": [
    {
     "name": "stderr",
     "output_type": "stream",
     "text": [
      "Auto-assigning NUTS sampler...\n",
      "Initializing NUTS using jitter+adapt_diag...\n",
      "Multiprocess sampling (4 chains in 4 jobs)\n",
      "NUTS: [ν, σ, μ]\n"
     ]
    },
    {
     "data": {
      "text/html": [
       "\n",
       "    <div>\n",
       "        <style>\n",
       "            /* Turns off some styling */\n",
       "            progress {\n",
       "                /* gets rid of default border in Firefox and Opera. */\n",
       "                border: none;\n",
       "                /* Needs to be in here for Safari polyfill so background images work as expected. */\n",
       "                background-size: auto;\n",
       "            }\n",
       "            .progress-bar-interrupted, .progress-bar-interrupted::-webkit-progress-bar {\n",
       "                background: #F44336;\n",
       "            }\n",
       "        </style>\n",
       "      <progress value='8000' class='' max='8000' style='width:300px; height:20px; vertical-align: middle;'></progress>\n",
       "      100.00% [8000/8000 00:02<00:00 Sampling 4 chains, 0 divergences]\n",
       "    </div>\n",
       "    "
      ],
      "text/plain": [
       "<IPython.core.display.HTML object>"
      ]
     },
     "metadata": {},
     "output_type": "display_data"
    },
    {
     "name": "stderr",
     "output_type": "stream",
     "text": [
      "Sampling 4 chains for 1_000 tune and 1_000 draw iterations (4_000 + 4_000 draws total) took 2 seconds.\n"
     ]
    }
   ],
   "source": [
    "with pm.Model() as model_t:\n",
    "    μ = pm.Uniform('μ', 40, 75)\n",
    "    σ = pm.HalfNormal('σ', sd=10)\n",
    "    ν = pm.Exponential('ν', 1/30)\n",
    "    y = pm.StudentT('y', mu=μ, sd=σ, nu=ν, observed=data)\n",
    "    idata_t = pm.sample(1000, return_inferencedata=True)"
   ]
  },
  {
   "cell_type": "code",
   "execution_count": 22,
   "metadata": {},
   "outputs": [],
   "source": [
    "az.plot_trace(idata_t)\n",
    "plt.savefig('B11197_02_14.png', dpi=300)"
   ]
  },
  {
   "cell_type": "code",
   "execution_count": 23,
   "metadata": {},
   "outputs": [
    {
     "data": {
      "text/html": [
       "<div>\n",
       "<style scoped>\n",
       "    .dataframe tbody tr th:only-of-type {\n",
       "        vertical-align: middle;\n",
       "    }\n",
       "\n",
       "    .dataframe tbody tr th {\n",
       "        vertical-align: top;\n",
       "    }\n",
       "\n",
       "    .dataframe thead th {\n",
       "        text-align: right;\n",
       "    }\n",
       "</style>\n",
       "<table border=\"1\" class=\"dataframe\">\n",
       "  <thead>\n",
       "    <tr style=\"text-align: right;\">\n",
       "      <th></th>\n",
       "      <th>mean</th>\n",
       "      <th>sd</th>\n",
       "      <th>hdi_3%</th>\n",
       "      <th>hdi_97%</th>\n",
       "      <th>mcse_mean</th>\n",
       "      <th>mcse_sd</th>\n",
       "      <th>ess_bulk</th>\n",
       "      <th>ess_tail</th>\n",
       "      <th>r_hat</th>\n",
       "    </tr>\n",
       "  </thead>\n",
       "  <tbody>\n",
       "    <tr>\n",
       "      <th>μ</th>\n",
       "      <td>53.013</td>\n",
       "      <td>0.398</td>\n",
       "      <td>52.282</td>\n",
       "      <td>53.766</td>\n",
       "      <td>0.007</td>\n",
       "      <td>0.005</td>\n",
       "      <td>3107.0</td>\n",
       "      <td>2434.0</td>\n",
       "      <td>1.0</td>\n",
       "    </tr>\n",
       "    <tr>\n",
       "      <th>σ</th>\n",
       "      <td>2.187</td>\n",
       "      <td>0.401</td>\n",
       "      <td>1.492</td>\n",
       "      <td>2.959</td>\n",
       "      <td>0.009</td>\n",
       "      <td>0.006</td>\n",
       "      <td>1993.0</td>\n",
       "      <td>2301.0</td>\n",
       "      <td>1.0</td>\n",
       "    </tr>\n",
       "    <tr>\n",
       "      <th>ν</th>\n",
       "      <td>4.766</td>\n",
       "      <td>6.159</td>\n",
       "      <td>1.186</td>\n",
       "      <td>9.482</td>\n",
       "      <td>0.185</td>\n",
       "      <td>0.131</td>\n",
       "      <td>2025.0</td>\n",
       "      <td>1740.0</td>\n",
       "      <td>1.0</td>\n",
       "    </tr>\n",
       "  </tbody>\n",
       "</table>\n",
       "</div>"
      ],
      "text/plain": [
       "     mean     sd  hdi_3%  hdi_97%  mcse_mean  mcse_sd  ess_bulk  ess_tail  \\\n",
       "μ  53.013  0.398  52.282   53.766      0.007    0.005    3107.0    2434.0   \n",
       "σ   2.187  0.401   1.492    2.959      0.009    0.006    1993.0    2301.0   \n",
       "ν   4.766  6.159   1.186    9.482      0.185    0.131    2025.0    1740.0   \n",
       "\n",
       "   r_hat  \n",
       "μ    1.0  \n",
       "σ    1.0  \n",
       "ν    1.0  "
      ]
     },
     "execution_count": 23,
     "metadata": {},
     "output_type": "execute_result"
    }
   ],
   "source": [
    "az.summary(idata_t)"
   ]
  },
  {
   "cell_type": "code",
   "execution_count": 24,
   "metadata": {},
   "outputs": [
    {
     "data": {
      "text/html": [
       "\n",
       "    <div>\n",
       "        <style>\n",
       "            /* Turns off some styling */\n",
       "            progress {\n",
       "                /* gets rid of default border in Firefox and Opera. */\n",
       "                border: none;\n",
       "                /* Needs to be in here for Safari polyfill so background images work as expected. */\n",
       "                background-size: auto;\n",
       "            }\n",
       "            .progress-bar-interrupted, .progress-bar-interrupted::-webkit-progress-bar {\n",
       "                background: #F44336;\n",
       "            }\n",
       "        </style>\n",
       "      <progress value='4000' class='' max='4000' style='width:300px; height:20px; vertical-align: middle;'></progress>\n",
       "      100.00% [4000/4000 00:03<00:00]\n",
       "    </div>\n",
       "    "
      ],
      "text/plain": [
       "<IPython.core.display.HTML object>"
      ]
     },
     "metadata": {},
     "output_type": "display_data"
    }
   ],
   "source": [
    "y_ppc_t = pm.sample_posterior_predictive(\n",
    "    idata_t, model=model_t, random_seed=123, keep_size=True)\n",
    "az.concat(idata_t, az.from_dict(posterior_predictive=y_ppc_t), inplace=True)\n",
    "az.plot_ppc(idata_t, figsize=(12, 6), mean=False, num_pp_samples=100)\n",
    "plt.xlim(40, 70)\n",
    "plt.savefig('B11197_02_15.png', dpi=300)"
   ]
  },
  {
   "cell_type": "markdown",
   "metadata": {
    "collapsed": true
   },
   "source": [
    "# Tips example"
   ]
  },
  {
   "cell_type": "code",
   "execution_count": 25,
   "metadata": {},
   "outputs": [
    {
     "data": {
      "text/html": [
       "<div>\n",
       "<style scoped>\n",
       "    .dataframe tbody tr th:only-of-type {\n",
       "        vertical-align: middle;\n",
       "    }\n",
       "\n",
       "    .dataframe tbody tr th {\n",
       "        vertical-align: top;\n",
       "    }\n",
       "\n",
       "    .dataframe thead th {\n",
       "        text-align: right;\n",
       "    }\n",
       "</style>\n",
       "<table border=\"1\" class=\"dataframe\">\n",
       "  <thead>\n",
       "    <tr style=\"text-align: right;\">\n",
       "      <th></th>\n",
       "      <th>total_bill</th>\n",
       "      <th>tip</th>\n",
       "      <th>sex</th>\n",
       "      <th>smoker</th>\n",
       "      <th>day</th>\n",
       "      <th>time</th>\n",
       "      <th>size</th>\n",
       "    </tr>\n",
       "  </thead>\n",
       "  <tbody>\n",
       "    <tr>\n",
       "      <th>239</th>\n",
       "      <td>29.03</td>\n",
       "      <td>5.92</td>\n",
       "      <td>Male</td>\n",
       "      <td>No</td>\n",
       "      <td>Sat</td>\n",
       "      <td>Dinner</td>\n",
       "      <td>3</td>\n",
       "    </tr>\n",
       "    <tr>\n",
       "      <th>240</th>\n",
       "      <td>27.18</td>\n",
       "      <td>2.00</td>\n",
       "      <td>Female</td>\n",
       "      <td>Yes</td>\n",
       "      <td>Sat</td>\n",
       "      <td>Dinner</td>\n",
       "      <td>2</td>\n",
       "    </tr>\n",
       "    <tr>\n",
       "      <th>241</th>\n",
       "      <td>22.67</td>\n",
       "      <td>2.00</td>\n",
       "      <td>Male</td>\n",
       "      <td>Yes</td>\n",
       "      <td>Sat</td>\n",
       "      <td>Dinner</td>\n",
       "      <td>2</td>\n",
       "    </tr>\n",
       "    <tr>\n",
       "      <th>242</th>\n",
       "      <td>17.82</td>\n",
       "      <td>1.75</td>\n",
       "      <td>Male</td>\n",
       "      <td>No</td>\n",
       "      <td>Sat</td>\n",
       "      <td>Dinner</td>\n",
       "      <td>2</td>\n",
       "    </tr>\n",
       "    <tr>\n",
       "      <th>243</th>\n",
       "      <td>18.78</td>\n",
       "      <td>3.00</td>\n",
       "      <td>Female</td>\n",
       "      <td>No</td>\n",
       "      <td>Thur</td>\n",
       "      <td>Dinner</td>\n",
       "      <td>2</td>\n",
       "    </tr>\n",
       "  </tbody>\n",
       "</table>\n",
       "</div>"
      ],
      "text/plain": [
       "     total_bill   tip     sex smoker   day    time  size\n",
       "239       29.03  5.92    Male     No   Sat  Dinner     3\n",
       "240       27.18  2.00  Female    Yes   Sat  Dinner     2\n",
       "241       22.67  2.00    Male    Yes   Sat  Dinner     2\n",
       "242       17.82  1.75    Male     No   Sat  Dinner     2\n",
       "243       18.78  3.00  Female     No  Thur  Dinner     2"
      ]
     },
     "execution_count": 25,
     "metadata": {},
     "output_type": "execute_result"
    }
   ],
   "source": [
    "tips = pd.read_csv('../data/tips.csv')\n",
    "tips.tail()"
   ]
  },
  {
   "cell_type": "code",
   "execution_count": 26,
   "metadata": {},
   "outputs": [],
   "source": [
    "sns.violinplot(x='day', y='tip', data=tips)\n",
    "plt.savefig('B11197_02_16.png', dpi=300)"
   ]
  },
  {
   "cell_type": "code",
   "execution_count": 27,
   "metadata": {},
   "outputs": [],
   "source": [
    "tip = tips['tip'].values\n",
    "idx = pd.Categorical(tips['day'],\n",
    "                     categories=['Thur', 'Fri', 'Sat', 'Sun']).codes\n",
    "groups = len(np.unique(idx))"
   ]
  },
  {
   "cell_type": "code",
   "execution_count": 28,
   "metadata": {},
   "outputs": [
    {
     "name": "stderr",
     "output_type": "stream",
     "text": [
      "Auto-assigning NUTS sampler...\n",
      "Initializing NUTS using jitter+adapt_diag...\n",
      "Multiprocess sampling (4 chains in 4 jobs)\n",
      "NUTS: [σ, μ]\n"
     ]
    },
    {
     "data": {
      "text/html": [
       "\n",
       "    <div>\n",
       "        <style>\n",
       "            /* Turns off some styling */\n",
       "            progress {\n",
       "                /* gets rid of default border in Firefox and Opera. */\n",
       "                border: none;\n",
       "                /* Needs to be in here for Safari polyfill so background images work as expected. */\n",
       "                background-size: auto;\n",
       "            }\n",
       "            .progress-bar-interrupted, .progress-bar-interrupted::-webkit-progress-bar {\n",
       "                background: #F44336;\n",
       "            }\n",
       "        </style>\n",
       "      <progress value='24000' class='' max='24000' style='width:300px; height:20px; vertical-align: middle;'></progress>\n",
       "      100.00% [24000/24000 00:06<00:00 Sampling 4 chains, 0 divergences]\n",
       "    </div>\n",
       "    "
      ],
      "text/plain": [
       "<IPython.core.display.HTML object>"
      ]
     },
     "metadata": {},
     "output_type": "display_data"
    },
    {
     "name": "stderr",
     "output_type": "stream",
     "text": [
      "Sampling 4 chains for 1_000 tune and 5_000 draw iterations (4_000 + 20_000 draws total) took 7 seconds.\n"
     ]
    }
   ],
   "source": [
    "with pm.Model() as comparing_groups:\n",
    "    μ = pm.Normal('μ', mu=0, sd=10, shape=groups)\n",
    "    σ = pm.HalfNormal('σ', sd=10, shape=groups)\n",
    "\n",
    "    y = pm.Normal('y', mu=μ[idx], sd=σ[idx], observed=tip)\n",
    "\n",
    "    idata_cg = pm.sample(5000, return_inferencedata=True)\n",
    "az.plot_trace(idata_cg)\n",
    "plt.savefig('B11197_02_17.png', dpi=300)"
   ]
  },
  {
   "cell_type": "code",
   "execution_count": 29,
   "metadata": {},
   "outputs": [],
   "source": [
    "dist = stats.norm()\n",
    "\n",
    "_, ax = plt.subplots(3, 2, figsize=(14, 8), constrained_layout=True)\n",
    "\n",
    "comparisons = [(i, j) for i in range(4) for j in range(i+1, 4)]\n",
    "pos = [(k, l) for k in range(3) for l in (0, 1)]\n",
    "\n",
    "posterior_cg = idata_cg.posterior.stack(samples={\"chain\", \"draw\"})\n",
    "\n",
    "for (i, j), (k, l) in zip(comparisons, pos):\n",
    "    means_diff = posterior_cg[\"μ\"].sel({\"μ_dim_0\":i}) - posterior_cg[\"μ\"].sel({\"μ_dim_0\":j})\n",
    "    d_cohen = (means_diff / np.sqrt((posterior_cg[\"σ\"].sel({\"σ_dim_0\":i})**2 + \n",
    "                                     posterior_cg[\"σ\"].sel({\"σ_dim_0\":j})**2) / 2)).mean().item()\n",
    "    ps = dist.cdf(d_cohen/(2**0.5))\n",
    "    az.plot_posterior(means_diff.values, ref_val=0, ax=ax[k, l])\n",
    "    ax[k, l].set_title(f'$\\mu_{i}-\\mu_{j}$')\n",
    "    ax[k, l].plot(\n",
    "        0, label=f\"Cohen's d = {d_cohen:.2f}\\nProb sup = {ps:.2f}\", alpha=0)\n",
    "    ax[k, l].legend()\n",
    "plt.savefig('B11197_02_18.png', dpi=300)"
   ]
  },
  {
   "cell_type": "markdown",
   "metadata": {},
   "source": [
    "# Hierarchical Models"
   ]
  },
  {
   "cell_type": "markdown",
   "metadata": {},
   "source": [
    " <img src=\"B11197_02_19.png\" width=\"500\">"
   ]
  },
  {
   "cell_type": "code",
   "execution_count": 30,
   "metadata": {},
   "outputs": [],
   "source": [
    "N_samples = [30, 30, 30]\n",
    "G_samples = [18, 18, 18]  # [3, 3, 3]  [18, 3, 3]\n",
    "\n",
    "group_idx = np.repeat(np.arange(len(N_samples)), N_samples)\n",
    "data = []\n",
    "for i in range(0, len(N_samples)):\n",
    "    data.extend(np.repeat([1, 0], [G_samples[i], N_samples[i]-G_samples[i]]))"
   ]
  },
  {
   "cell_type": "code",
   "execution_count": 31,
   "metadata": {},
   "outputs": [
    {
     "name": "stderr",
     "output_type": "stream",
     "text": [
      "Auto-assigning NUTS sampler...\n",
      "Initializing NUTS using jitter+adapt_diag...\n",
      "Multiprocess sampling (4 chains in 4 jobs)\n",
      "NUTS: [θ, κ, μ]\n"
     ]
    },
    {
     "data": {
      "text/html": [
       "\n",
       "    <div>\n",
       "        <style>\n",
       "            /* Turns off some styling */\n",
       "            progress {\n",
       "                /* gets rid of default border in Firefox and Opera. */\n",
       "                border: none;\n",
       "                /* Needs to be in here for Safari polyfill so background images work as expected. */\n",
       "                background-size: auto;\n",
       "            }\n",
       "            .progress-bar-interrupted, .progress-bar-interrupted::-webkit-progress-bar {\n",
       "                background: #F44336;\n",
       "            }\n",
       "        </style>\n",
       "      <progress value='12000' class='' max='12000' style='width:300px; height:20px; vertical-align: middle;'></progress>\n",
       "      100.00% [12000/12000 00:03<00:00 Sampling 4 chains, 0 divergences]\n",
       "    </div>\n",
       "    "
      ],
      "text/plain": [
       "<IPython.core.display.HTML object>"
      ]
     },
     "metadata": {},
     "output_type": "display_data"
    },
    {
     "name": "stderr",
     "output_type": "stream",
     "text": [
      "Sampling 4 chains for 1_000 tune and 2_000 draw iterations (4_000 + 8_000 draws total) took 4 seconds.\n"
     ]
    }
   ],
   "source": [
    "with pm.Model() as model_h:\n",
    "    μ = pm.Beta('μ', 1., 1.)\n",
    "    κ = pm.HalfNormal('κ', 10)\n",
    "\n",
    "    θ = pm.Beta('θ', alpha=μ*κ, beta=(1.0-μ)*κ, shape=len(N_samples))\n",
    "    y = pm.Bernoulli('y', p=θ[group_idx], observed=data)\n",
    "\n",
    "    idata_h = pm.sample(2000, return_inferencedata=True)"
   ]
  },
  {
   "cell_type": "code",
   "execution_count": 32,
   "metadata": {},
   "outputs": [],
   "source": [
    "az.plot_trace(idata_h)\n",
    "plt.savefig('B11197_02_20.png', dpi=300)"
   ]
  },
  {
   "cell_type": "code",
   "execution_count": 33,
   "metadata": {},
   "outputs": [
    {
     "data": {
      "text/html": [
       "<div>\n",
       "<style scoped>\n",
       "    .dataframe tbody tr th:only-of-type {\n",
       "        vertical-align: middle;\n",
       "    }\n",
       "\n",
       "    .dataframe tbody tr th {\n",
       "        vertical-align: top;\n",
       "    }\n",
       "\n",
       "    .dataframe thead th {\n",
       "        text-align: right;\n",
       "    }\n",
       "</style>\n",
       "<table border=\"1\" class=\"dataframe\">\n",
       "  <thead>\n",
       "    <tr style=\"text-align: right;\">\n",
       "      <th></th>\n",
       "      <th>mean</th>\n",
       "      <th>sd</th>\n",
       "      <th>hdi_3%</th>\n",
       "      <th>hdi_97%</th>\n",
       "      <th>mcse_mean</th>\n",
       "      <th>mcse_sd</th>\n",
       "      <th>ess_bulk</th>\n",
       "      <th>ess_tail</th>\n",
       "      <th>r_hat</th>\n",
       "    </tr>\n",
       "  </thead>\n",
       "  <tbody>\n",
       "    <tr>\n",
       "      <th>μ</th>\n",
       "      <td>0.584</td>\n",
       "      <td>0.095</td>\n",
       "      <td>0.405</td>\n",
       "      <td>0.763</td>\n",
       "      <td>0.001</td>\n",
       "      <td>0.001</td>\n",
       "      <td>5037.0</td>\n",
       "      <td>5232.0</td>\n",
       "      <td>1.0</td>\n",
       "    </tr>\n",
       "    <tr>\n",
       "      <th>κ</th>\n",
       "      <td>12.255</td>\n",
       "      <td>6.144</td>\n",
       "      <td>1.890</td>\n",
       "      <td>23.430</td>\n",
       "      <td>0.082</td>\n",
       "      <td>0.058</td>\n",
       "      <td>5145.0</td>\n",
       "      <td>4173.0</td>\n",
       "      <td>1.0</td>\n",
       "    </tr>\n",
       "    <tr>\n",
       "      <th>θ[0]</th>\n",
       "      <td>0.595</td>\n",
       "      <td>0.079</td>\n",
       "      <td>0.448</td>\n",
       "      <td>0.744</td>\n",
       "      <td>0.001</td>\n",
       "      <td>0.001</td>\n",
       "      <td>5918.0</td>\n",
       "      <td>5176.0</td>\n",
       "      <td>1.0</td>\n",
       "    </tr>\n",
       "    <tr>\n",
       "      <th>θ[1]</th>\n",
       "      <td>0.596</td>\n",
       "      <td>0.079</td>\n",
       "      <td>0.456</td>\n",
       "      <td>0.749</td>\n",
       "      <td>0.001</td>\n",
       "      <td>0.001</td>\n",
       "      <td>5416.0</td>\n",
       "      <td>6085.0</td>\n",
       "      <td>1.0</td>\n",
       "    </tr>\n",
       "    <tr>\n",
       "      <th>θ[2]</th>\n",
       "      <td>0.595</td>\n",
       "      <td>0.079</td>\n",
       "      <td>0.451</td>\n",
       "      <td>0.745</td>\n",
       "      <td>0.001</td>\n",
       "      <td>0.001</td>\n",
       "      <td>5383.0</td>\n",
       "      <td>5196.0</td>\n",
       "      <td>1.0</td>\n",
       "    </tr>\n",
       "  </tbody>\n",
       "</table>\n",
       "</div>"
      ],
      "text/plain": [
       "        mean     sd  hdi_3%  hdi_97%  mcse_mean  mcse_sd  ess_bulk  ess_tail  \\\n",
       "μ      0.584  0.095   0.405    0.763      0.001    0.001    5037.0    5232.0   \n",
       "κ     12.255  6.144   1.890   23.430      0.082    0.058    5145.0    4173.0   \n",
       "θ[0]   0.595  0.079   0.448    0.744      0.001    0.001    5918.0    5176.0   \n",
       "θ[1]   0.596  0.079   0.456    0.749      0.001    0.001    5416.0    6085.0   \n",
       "θ[2]   0.595  0.079   0.451    0.745      0.001    0.001    5383.0    5196.0   \n",
       "\n",
       "      r_hat  \n",
       "μ       1.0  \n",
       "κ       1.0  \n",
       "θ[0]    1.0  \n",
       "θ[1]    1.0  \n",
       "θ[2]    1.0  "
      ]
     },
     "execution_count": 33,
     "metadata": {},
     "output_type": "execute_result"
    }
   ],
   "source": [
    "az.summary(idata_h)"
   ]
  },
  {
   "cell_type": "code",
   "execution_count": 34,
   "metadata": {},
   "outputs": [
    {
     "name": "stderr",
     "output_type": "stream",
     "text": [
      "<ipython-input-34-08bb0132bc0b>:21: UserWarning: This figure was using constrained_layout, but that is incompatible with subplots_adjust and/or tight_layout; disabling constrained_layout.\n",
      "  plt.tight_layout()\n"
     ]
    }
   ],
   "source": [
    "x = np.linspace(0, 1, 100)\n",
    "posterior_h = idata_h.posterior.stack(samples={\"chain\", \"draw\"})\n",
    "\n",
    "for i in np.random.randint(0, posterior_h.samples.size, size=100):\n",
    "    u = posterior_h['μ'][i]\n",
    "    k = posterior_h['κ'][i]\n",
    "    pdf = stats.beta(u*k, (1.0-u)*k).pdf(x)\n",
    "    plt.plot(x, pdf,  'C1', alpha=0.2)\n",
    "\n",
    "u_mean = posterior_h['μ'].mean().item()\n",
    "k_mean = posterior_h['κ'].mean().item()\n",
    "dist = stats.beta(u_mean*k_mean, (1.0-u_mean)*k_mean)\n",
    "pdf = dist.pdf(x)\n",
    "mode = x[np.argmax(pdf)]\n",
    "mean = dist.moment(1)\n",
    "plt.plot(x, pdf, lw=3, label=f'mode = {mode:.2f}\\nmean = {mean:.2f}')\n",
    "plt.yticks([])\n",
    "\n",
    "plt.legend()\n",
    "plt.xlabel('$θ_{prior}$')\n",
    "plt.tight_layout()\n",
    "plt.savefig('B11197_02_21.png', dpi=300)"
   ]
  },
  {
   "cell_type": "code",
   "execution_count": 35,
   "metadata": {},
   "outputs": [],
   "source": [
    "cs_data = pd.read_csv('../data/chemical_shifts_theo_exp.csv')\n",
    "diff = cs_data.theo.values - cs_data.exp.values\n",
    "idx = pd.Categorical(cs_data['aa']).codes\n",
    "groups = len(np.unique(idx))"
   ]
  },
  {
   "cell_type": "code",
   "execution_count": 36,
   "metadata": {},
   "outputs": [
    {
     "name": "stderr",
     "output_type": "stream",
     "text": [
      "Auto-assigning NUTS sampler...\n",
      "Initializing NUTS using jitter+adapt_diag...\n",
      "Multiprocess sampling (4 chains in 4 jobs)\n",
      "NUTS: [σ, μ]\n"
     ]
    },
    {
     "data": {
      "text/html": [
       "\n",
       "    <div>\n",
       "        <style>\n",
       "            /* Turns off some styling */\n",
       "            progress {\n",
       "                /* gets rid of default border in Firefox and Opera. */\n",
       "                border: none;\n",
       "                /* Needs to be in here for Safari polyfill so background images work as expected. */\n",
       "                background-size: auto;\n",
       "            }\n",
       "            .progress-bar-interrupted, .progress-bar-interrupted::-webkit-progress-bar {\n",
       "                background: #F44336;\n",
       "            }\n",
       "        </style>\n",
       "      <progress value='8000' class='' max='8000' style='width:300px; height:20px; vertical-align: middle;'></progress>\n",
       "      100.00% [8000/8000 00:04<00:00 Sampling 4 chains, 0 divergences]\n",
       "    </div>\n",
       "    "
      ],
      "text/plain": [
       "<IPython.core.display.HTML object>"
      ]
     },
     "metadata": {},
     "output_type": "display_data"
    },
    {
     "name": "stderr",
     "output_type": "stream",
     "text": [
      "Sampling 4 chains for 1_000 tune and 1_000 draw iterations (4_000 + 4_000 draws total) took 5 seconds.\n"
     ]
    }
   ],
   "source": [
    "with pm.Model() as cs_nh:\n",
    "    μ = pm.Normal('μ', mu=0, sd=10, shape=groups)\n",
    "    σ = pm.HalfNormal('σ', sd=10, shape=groups)\n",
    "\n",
    "    y = pm.Normal('y', mu=μ[idx], sd=σ[idx], observed=diff)\n",
    "\n",
    "    idata_cs_nh = pm.sample(1000, return_inferencedata=True)"
   ]
  },
  {
   "cell_type": "code",
   "execution_count": 37,
   "metadata": {},
   "outputs": [
    {
     "name": "stderr",
     "output_type": "stream",
     "text": [
      "Auto-assigning NUTS sampler...\n",
      "Initializing NUTS using jitter+adapt_diag...\n",
      "Multiprocess sampling (4 chains in 4 jobs)\n",
      "NUTS: [σ, μ, σ_μ, μ_μ]\n"
     ]
    },
    {
     "data": {
      "text/html": [
       "\n",
       "    <div>\n",
       "        <style>\n",
       "            /* Turns off some styling */\n",
       "            progress {\n",
       "                /* gets rid of default border in Firefox and Opera. */\n",
       "                border: none;\n",
       "                /* Needs to be in here for Safari polyfill so background images work as expected. */\n",
       "                background-size: auto;\n",
       "            }\n",
       "            .progress-bar-interrupted, .progress-bar-interrupted::-webkit-progress-bar {\n",
       "                background: #F44336;\n",
       "            }\n",
       "        </style>\n",
       "      <progress value='8000' class='' max='8000' style='width:300px; height:20px; vertical-align: middle;'></progress>\n",
       "      100.00% [8000/8000 00:06<00:00 Sampling 4 chains, 0 divergences]\n",
       "    </div>\n",
       "    "
      ],
      "text/plain": [
       "<IPython.core.display.HTML object>"
      ]
     },
     "metadata": {},
     "output_type": "display_data"
    },
    {
     "name": "stderr",
     "output_type": "stream",
     "text": [
      "Sampling 4 chains for 1_000 tune and 1_000 draw iterations (4_000 + 4_000 draws total) took 7 seconds.\n"
     ]
    }
   ],
   "source": [
    "with pm.Model() as cs_h:\n",
    "    # hyper_priors\n",
    "    μ_μ = pm.Normal('μ_μ', mu=0, sd=10)\n",
    "    σ_μ = pm.HalfNormal('σ_μ', 10)\n",
    "\n",
    "    # priors\n",
    "    μ = pm.Normal('μ', mu=μ_μ, sd=σ_μ, shape=groups)\n",
    "    σ = pm.HalfNormal('σ', sd=10, shape=groups)\n",
    "\n",
    "    y = pm.Normal('y', mu=μ[idx], sd=σ[idx], observed=diff)\n",
    "\n",
    "    idata_cs_h = pm.sample(1000, return_inferencedata=True)"
   ]
  },
  {
   "cell_type": "code",
   "execution_count": 38,
   "metadata": {
    "scrolled": true
   },
   "outputs": [],
   "source": [
    "axes = az.plot_forest([idata_cs_nh, idata_cs_h],\n",
    "                         model_names=['n_h', 'h'],\n",
    "                         var_names='μ', combined=False, colors='cycle')\n",
    "y_lims = axes[0].get_ylim()\n",
    "axes[0].vlines(idata_cs_h.posterior['μ_μ'].mean(), *y_lims)\n",
    "plt.savefig('B11197_02_22.png', dpi=300)"
   ]
  }
 ],
 "metadata": {
  "kernelspec": {
   "display_name": "Python 3",
   "language": "python",
   "name": "python3"
  },
  "language_info": {
   "codemirror_mode": {
    "name": "ipython",
    "version": 3
   },
   "file_extension": ".py",
   "mimetype": "text/x-python",
   "name": "python",
   "nbconvert_exporter": "python",
   "pygments_lexer": "ipython3",
   "version": "3.9.6"
  }
 },
 "nbformat": 4,
 "nbformat_minor": 1
}
